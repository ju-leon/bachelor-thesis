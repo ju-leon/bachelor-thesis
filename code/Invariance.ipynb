{
 "cells": [
  {
   "cell_type": "code",
   "execution_count": 2,
   "metadata": {},
   "outputs": [],
   "source": [
    "from encode_data import read_from_file\n",
    "from encode_data import generate_slices\n",
    "from encode_data import generate_fourier_descriptions\n",
    "from feature_generation.definitions import Atom, Point\n",
    "from feature_generation.contour_descriptor import fourier_descriptor\n",
    "\n",
    "from ipywidgets import interact, interactive, fixed, interact_manual\n",
    "import ipywidgets as widgets\n",
    "from feature_generation.alignment import align_catalyst\n",
    "import matplotlib.pyplot as plt\n",
    "from pyefd import reconstruct_contour\n",
    "import numpy as np\n",
    "from scipy.spatial.transform import Rotation as R"
   ]
  },
  {
   "cell_type": "markdown",
   "metadata": {},
   "source": [
    "# Test rotational invariance"
   ]
  },
  {
   "cell_type": "code",
   "execution_count": 6,
   "metadata": {},
   "outputs": [
    {
     "name": "stdout",
     "output_type": "stream",
     "text": [
      "[Atom(element='Ir', location=array([ 3.00000e-06, -3.60974e-01,  2.43672e-01]), radius=2.33), Atom(element='H', location=array([ 2.200000e-05, -3.126720e-01,  2.072583e+00]), radius=1.54), Atom(element='H', location=array([6.000000e-06, 5.450380e-01, 2.021628e+00]), radius=1.54), Atom(element='As', location=array([-2.418886, -0.174631,  0.037085]), radius=2.31), Atom(element='C', location=array([-2.976613,  0.462427, -1.722003]), radius=1.9), Atom(element='C', location=array([-3.256874,  1.106006,  1.25267 ]), radius=1.9), Atom(element='C', location=array([-3.490326, -1.79751 ,  0.276363]), radius=1.9), Atom(element='H', location=array([-2.427213,  1.405245, -1.908476]), radius=1.54), Atom(element='H', location=array([-4.071256,  0.627648, -1.754498]), radius=1.54), Atom(element='H', location=array([-2.677873, -0.288167, -2.477847]), radius=1.54), Atom(element='H', location=array([-2.730218,  2.069707,  1.112104]), radius=1.54), Atom(element='H', location=array([-3.115237,  0.759428,  2.29408 ]), radius=1.54), Atom(element='H', location=array([-4.336365,  1.212505,  1.029924]), radius=1.54), Atom(element='H', location=array([-3.122302, -2.567937, -0.42816 ]), radius=1.54), Atom(element='H', location=array([-4.562805, -1.594568,  0.088912]), radius=1.54), Atom(element='H', location=array([-3.351796, -2.168606,  1.309665]), radius=1.54), Atom(element='As', location=array([ 2.418898, -0.174682,  0.037071]), radius=2.31), Atom(element='C', location=array([ 3.490327, -1.797592,  0.276201]), radius=1.9), Atom(element='C', location=array([3.256905, 1.105825, 1.252783]), radius=1.9), Atom(element='C', location=array([ 2.976651,  0.462536, -1.721952]), radius=1.9), Atom(element='H', location=array([ 3.351841, -2.16875 ,  1.309487]), radius=1.54), Atom(element='H', location=array([ 4.562799, -1.594645,  0.088716]), radius=1.54), Atom(element='H', location=array([ 3.122267, -2.567975, -0.42835 ]), radius=1.54), Atom(element='H', location=array([3.115204, 0.759181, 2.294162]), radius=1.54), Atom(element='H', location=array([2.730307, 2.069565, 1.112263]), radius=1.54), Atom(element='H', location=array([4.336411, 1.212283, 1.030092]), radius=1.54), Atom(element='H', location=array([ 2.678   , -0.288028, -2.477861]), radius=1.54), Atom(element='H', location=array([ 4.071284,  0.627835, -1.754387]), radius=1.54), Atom(element='H', location=array([ 2.427193,  1.405329, -1.908384]), radius=1.54), Atom(element='C', location=array([-8.700000e-05, -2.038225e+00, -4.891090e-01]), radius=1.9), Atom(element='O', location=array([-2.200000e-04, -3.118639e+00, -9.595980e-01]), radius=1.71), Atom(element='Br', location=array([ 2.800000e-05,  2.288807e+00, -3.116710e-01]), radius=2.19)]\n",
      "[Atom(element='Ir', location=array([ 0.2100341 , -0.1509369 , -0.35040263]), radius=2.33), Atom(element='H', location=array([ 1.2349468 ,  0.9222968 , -1.42043624]), radius=1.54), Atom(element='H', location=array([ 1.03459309,  1.57963709, -0.90466014]), radius=1.54), Atom(element='As', location=array([ 1.99101344, -0.60250356,  1.24729134]), radius=2.31), Atom(element='C', location=array([ 1.314693 , -1.199493 ,  2.9786166]), radius=1.9), Atom(element='C', location=array([3.09291516, 0.94204716, 1.71641563]), radius=1.9), Atom(element='C', location=array([ 3.30809732, -1.97973868,  0.79178354]), radius=1.9), Atom(element='H', location=array([ 0.58112434, -0.44084366,  3.31305123]), radius=1.54), Atom(element='H', location=array([ 2.13898125, -1.30462675,  3.71080031]), radius=1.54), Atom(element='H', location=array([ 0.79824987, -2.16779013,  2.83853005]), radius=1.54), Atom(element='H', location=array([2.39933402, 1.73882302, 2.04798521]), radius=1.54), Atom(element='H', location=array([3.63803162, 1.28222262, 0.81539352]), radius=1.54), Atom(element='H', location=array([3.809204  , 0.685344  , 2.52096048]), radius=1.54), Atom(element='H', location=array([ 2.76922513, -2.92101387,  0.5704922 ]), radius=1.54), Atom(element='H', location=array([ 4.01945382, -2.13791918,  1.62574121]), radius=1.54), Atom(element='H', location=array([ 3.8560164 , -1.6643856 , -0.11648566]), radius=1.54), Atom(element='As', location=array([-1.87921148,  0.36500452, -1.489393  ]), radius=2.31), Atom(element='C', location=array([-2.27650032, -0.58376532, -3.15701931]), radius=1.9), Atom(element='C', location=array([-2.11800792,  2.24472208, -1.9685044 ]), radius=1.9), Atom(element='C', location=array([-3.44791115, -0.00872415, -0.38902701]), radius=1.9), Atom(element='H', location=array([-1.50696509, -0.32387409, -3.90861007]), radius=1.54), Atom(element='H', location=array([-3.28112485, -0.31297085, -3.53640593]), radius=1.54), Atom(element='H', location=array([-2.22652995, -1.67223795, -2.96187696]), radius=1.54), Atom(element='H', location=array([-1.34622539,  2.52815961, -2.70926507]), radius=1.54), Atom(element='H', location=array([-1.96896763,  2.83090437, -1.04112992]), radius=1.54), Atom(element='H', location=array([-3.12887737,  2.41981663, -2.38532888]), radius=1.54), Atom(element='H', location=array([-3.48648425, -1.09651225, -0.19112221]), radius=1.54), Atom(element='H', location=array([-4.37502536,  0.32409364, -0.89527671]), radius=1.54), Atom(element='H', location=array([-3.30236521,  0.53015679,  0.56697683]), radius=1.54), Atom(element='C', location=array([ 0.13103277, -1.90727923, -0.85947956]), radius=1.9), Atom(element='O', location=array([ 0.0810732 , -3.0377858 , -1.18828538]), radius=1.71), Atom(element='Br', location=array([-0.63409154,  1.65474346,  1.48173152]), radius=2.19)]\n"
     ]
    }
   ],
   "source": [
    "molecule = read_from_file(\"test_data/ir_tbp_1_dft-asme3_1_dft-asme3_1_dft-co_1_bromide_1_smi1_1_s_1_ts.xyz\")\n",
    "print(molecule)\n",
    "\n",
    "rot3d = R.from_quat([0, 2, np.sin(np.pi/4), np.cos(np.pi/4)]).as_matrix()\n",
    "molecule_rot = [Atom(ele, rot3d @ loc, rad) for (ele, loc, rad) in molecule]\n",
    "print(molecule_rot)"
   ]
  },
  {
   "cell_type": "code",
   "execution_count": 7,
   "metadata": {},
   "outputs": [
    {
     "name": "stdout",
     "output_type": "stream",
     "text": [
      "[[3.03586692 2.42738231]\n",
      " [3.03579067 2.44263237]\n",
      " [3.03556193 2.45788089]\n",
      " ...\n",
      " [3.03553737 2.39568004]\n",
      " [3.03577816 2.41092838]\n",
      " [3.03586645 2.42617837]]\n",
      "[[-0.2591793  -2.04771334]\n",
      " [-0.25925294 -2.03298637]\n",
      " [-0.25947384 -2.01826087]\n",
      " ...\n",
      " [-0.25950283 -2.07858106]\n",
      " [-0.25926777 -2.06385578]\n",
      " [-0.25917998 -2.04912889]]\n"
     ]
    }
   ],
   "source": [
    "slices = generate_slices(molecule, 0.5, -5, 5, 0.01)\n",
    "print(slices[9])\n",
    "\n",
    "slices_rot = generate_slices(molecule_rot, 0.5, -5, 5, 0.01)\n",
    "print(slices_rot[9])"
   ]
  },
  {
   "cell_type": "code",
   "execution_count": 8,
   "metadata": {},
   "outputs": [
    {
     "data": {
      "application/vnd.jupyter.widget-view+json": {
       "model_id": "d49b750d1324426b860217dff18d3b77",
       "version_major": 2,
       "version_minor": 0
      },
      "text/plain": [
       "interactive(children=(IntSlider(value=9, description='x', max=20, min=1), Output()), _dom_classes=('widget-int…"
      ]
     },
     "metadata": {},
     "output_type": "display_data"
    }
   ],
   "source": [
    "def q(x):\n",
    "    fig = plt.figure()\n",
    "    ax1 = fig.add_subplot(1,2,1)\n",
    "    ax1.scatter(*zip(*list(slices[x])))\n",
    "    ax1.set_aspect('equal')\n",
    "\n",
    "    ax2 = fig.add_subplot(1,2,2)\n",
    "    ax2.scatter(*zip(*list(slices_rot[x])))\n",
    "    ax2.set_aspect('equal')\n",
    "    plt.show()\n",
    "\n",
    "interact(q, x=widgets.IntSlider(min=1, max=len(slices), step=1, value=9));"
   ]
  },
  {
   "cell_type": "code",
   "execution_count": 19,
   "metadata": {},
   "outputs": [
    {
     "name": "stdout",
     "output_type": "stream",
     "text": [
      "[[[ 0.00000000e+00  0.00000000e+00  0.00000000e+00  0.00000000e+00]\n",
      "  [ 0.00000000e+00  0.00000000e+00  0.00000000e+00  0.00000000e+00]\n",
      "  [ 0.00000000e+00  0.00000000e+00  0.00000000e+00  0.00000000e+00]\n",
      "  ...\n",
      "  [ 0.00000000e+00  0.00000000e+00  0.00000000e+00  0.00000000e+00]\n",
      "  [ 0.00000000e+00  0.00000000e+00  0.00000000e+00  0.00000000e+00]\n",
      "  [ 0.00000000e+00  0.00000000e+00  0.00000000e+00  0.00000000e+00]]\n",
      "\n",
      " [[ 0.00000000e+00  0.00000000e+00  0.00000000e+00  0.00000000e+00]\n",
      "  [ 0.00000000e+00  0.00000000e+00  0.00000000e+00  0.00000000e+00]\n",
      "  [ 0.00000000e+00  0.00000000e+00  0.00000000e+00  0.00000000e+00]\n",
      "  ...\n",
      "  [ 0.00000000e+00  0.00000000e+00  0.00000000e+00  0.00000000e+00]\n",
      "  [ 0.00000000e+00  0.00000000e+00  0.00000000e+00  0.00000000e+00]\n",
      "  [ 0.00000000e+00  0.00000000e+00  0.00000000e+00  0.00000000e+00]]\n",
      "\n",
      " [[ 0.00000000e+00  0.00000000e+00  0.00000000e+00  0.00000000e+00]\n",
      "  [ 0.00000000e+00  0.00000000e+00  0.00000000e+00  0.00000000e+00]\n",
      "  [ 0.00000000e+00  0.00000000e+00  0.00000000e+00  0.00000000e+00]\n",
      "  ...\n",
      "  [ 0.00000000e+00  0.00000000e+00  0.00000000e+00  0.00000000e+00]\n",
      "  [ 0.00000000e+00  0.00000000e+00  0.00000000e+00  0.00000000e+00]\n",
      "  [ 0.00000000e+00  0.00000000e+00  0.00000000e+00  0.00000000e+00]]\n",
      "\n",
      " ...\n",
      "\n",
      " [[ 1.00000000e+00  4.70565129e-17 -9.02755720e-17  6.95153477e-01]\n",
      "  [ 7.06762202e-07  2.67049678e-02 -7.56779732e-02 -3.44547265e-06]\n",
      "  [ 2.20932325e-02  5.37668401e-06  8.91630269e-07  1.44668195e-01]\n",
      "  ...\n",
      "  [ 4.80268725e-07  3.39246909e-04  2.17898576e-03 -6.94672500e-08]\n",
      "  [ 9.19831977e-04 -3.77994593e-07 -1.03446629e-06  4.09076994e-03]\n",
      "  [-2.67856735e-07  3.36926008e-03  6.24575856e-04 -1.61596022e-06]]\n",
      "\n",
      " [[ 1.00000000e+00  2.92593968e-17 -1.11914395e-17  6.27216658e-01]\n",
      "  [-1.10488692e-05 -9.58929389e-02  4.04279925e-02 -4.94790033e-06]\n",
      "  [ 5.92406100e-02  1.38174688e-05 -3.54912900e-07  2.05172272e-01]\n",
      "  ...\n",
      "  [-1.28791421e-06 -3.80870091e-03 -2.57728899e-03  1.03229905e-06]\n",
      "  [-3.74284172e-03  4.59476135e-06  2.74993030e-06 -2.05481075e-03]\n",
      "  [ 5.99515217e-08  5.00025317e-03 -1.38558353e-04  1.48782921e-06]]\n",
      "\n",
      " [[ 1.00000000e+00  0.00000000e+00  1.65175455e-20  8.25751063e-01]\n",
      "  [ 2.20185610e-03 -3.57238467e-07 -4.72092261e-07 -4.13451204e-03]\n",
      "  [ 2.16221582e-02  3.54258013e-07  4.88679912e-07  4.91145390e-02]\n",
      "  ...\n",
      "  [-1.13340613e-05  5.47524512e-08 -6.58545194e-08 -1.04343726e-03]\n",
      "  [ 4.83724059e-05 -2.93528352e-08  8.06964546e-08  3.32445059e-04]\n",
      "  [ 3.72918741e-05 -1.02453127e-08 -2.54479429e-08  9.39105077e-04]]]\n"
     ]
    }
   ],
   "source": [
    "fourier = generate_fourier_descriptions(slices, 20)\n",
    "print(fourier)"
   ]
  },
  {
   "cell_type": "code",
   "execution_count": 20,
   "metadata": {},
   "outputs": [
    {
     "data": {
      "application/vnd.jupyter.widget-view+json": {
       "model_id": "fde242a6ea7f425eadc12bc00cb17479",
       "version_major": 2,
       "version_minor": 0
      },
      "text/plain": [
       "interactive(children=(IntSlider(value=9, description='x', max=20, min=1), Output()), _dom_classes=('widget-int…"
      ]
     },
     "metadata": {},
     "output_type": "display_data"
    }
   ],
   "source": [
    "def q(x):\n",
    "    fig = plt.figure()\n",
    "    ax1 = fig.add_subplot(1,2,1)\n",
    "    ax1.scatter(*zip(*list(slices[x])))\n",
    "    ax1.set_aspect('equal')\n",
    "    contour = reconstruct_contour(fourier[x])\n",
    "    ax2 = fig.add_subplot(1,2,2)\n",
    "    ax2.scatter(*zip(*list(contour)))\n",
    "    ax2.set_aspect('equal')\n",
    "    plt.show()\n",
    "\n",
    "interact(q, x=widgets.IntSlider(min=1, max=len(fourier-1), step=1, value=9));"
   ]
  },
  {
   "cell_type": "code",
   "execution_count": null,
   "metadata": {},
   "outputs": [],
   "source": []
  }
 ],
 "metadata": {
  "kernelspec": {
   "display_name": "Python 3",
   "language": "python",
   "name": "python3"
  },
  "language_info": {
   "codemirror_mode": {
    "name": "ipython",
    "version": 3
   },
   "file_extension": ".py",
   "mimetype": "text/x-python",
   "name": "python",
   "nbconvert_exporter": "python",
   "pygments_lexer": "ipython3",
   "version": "3.7.7"
  }
 },
 "nbformat": 4,
 "nbformat_minor": 4
}
