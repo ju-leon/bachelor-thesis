{
 "cells": [
  {
   "cell_type": "code",
   "execution_count": null,
   "id": "promotional-exhibit",
   "metadata": {},
   "outputs": [],
   "source": [
    "#%matplotlib inline\n",
    "import numpy as np\n",
    "import os\n",
    "from tqdm import tqdm\n",
    "from PIL import Image\n",
    "from matplotlib.pyplot import imshow\n",
    "import math\n",
    "import sklearn"
   ]
  },
  {
   "cell_type": "code",
   "execution_count": null,
   "id": "equipped-dominican",
   "metadata": {},
   "outputs": [],
   "source": [
    "import tensorflow as tf\n",
    "from tensorflow import keras\n",
    "from tensorflow.keras import regularizers\n",
    "import numpy as np\n",
    "from tqdm import tqdm\n",
    "\n",
    "from sklearn.model_selection import train_test_split\n",
    "from sklearn.preprocessing import StandardScaler\n",
    "from keras.preprocessing.image import ImageDataGenerator\n",
    "from keras.optimizers import SGD, Adam\n",
    "import matplotlib.pyplot as plt\n",
    "import plotly.graph_objects as go\n",
    "\n",
    "from collections import namedtuple\n",
    "from ase.io import read\n",
    "from ase.build import molecule\n",
    "from ase import Atoms, Atom\n",
    "from ase.visualize import view\n",
    "from ase.geometry.analysis import Analysis\n",
    "import plotly.graph_objects as go\n",
    "from ase.data import vdw_radii\n",
    "from ase.data.colors import cpk_colors, jmol_colors"
   ]
  },
  {
   "cell_type": "code",
   "execution_count": null,
   "id": "charged-million",
   "metadata": {},
   "outputs": [],
   "source": [
    "from soap_generation.alignment import align_elements\n",
    "from soap_generation.augment import augment_elements"
   ]
  },
  {
   "cell_type": "code",
   "execution_count": null,
   "id": "ranking-tiffany",
   "metadata": {},
   "outputs": [],
   "source": [
    "import csv\n",
    "\n",
    "barriers = dict()\n",
    "\n",
    "with open('../data/vaskas_features_properties_smiles_filenames.csv', 'r') as file:\n",
    "    reader = csv.reader(file)\n",
    "    next(reader)\n",
    "    for row in reader:\n",
    "        #images.append(row[0])\n",
    "        #elos.append(row[1])\n",
    "        barriers[row[93]] = float(row[91])"
   ]
  },
  {
   "cell_type": "code",
   "execution_count": null,
   "id": "quick-series",
   "metadata": {},
   "outputs": [],
   "source": [
    "labels = []\n",
    "elems = []\n",
    "for f in tqdm(os.listdir(\"../data/coordinates_molSimplify/\")):\n",
    "    if f.endswith(\".xyz\"):\n",
    "        if (f == \"ir_tbp_1_dft-pet3_1_dft-py_1_dft-hicn_1_fluoride_1_smi1_1_s_1.xyz\"):\n",
    "            print(\"1:\" + str(len(labels)))\n",
    "\n",
    "        if (f == \"ir_tbp_1_dft-pet3_1_dft-py_1_dft-hicn_1_dft-cn_1_smi1_1_s_1.xyz\"):\n",
    "            print(\"2:\" + str(len(labels)))\n",
    "        elems.append(read(\"../data/coordinates_molSimplify/\" + f))\n",
    "        labels.append(barriers[f[:-4]])\n",
    "\n",
    "labels = np.array(labels)\n",
    "number_samples = len(labels)"
   ]
  },
  {
   "cell_type": "code",
   "execution_count": null,
   "id": "nominated-sister",
   "metadata": {},
   "outputs": [],
   "source": [
    "elems = align_elements(elems)"
   ]
  },
  {
   "cell_type": "code",
   "execution_count": null,
   "id": "nominated-workplace",
   "metadata": {},
   "outputs": [],
   "source": [
    "species = [\"H\",\"C\",\"N\",\"O\",\"F\",\"P\",\"S\",\"Cl\",\"As\",\"Br\",\"I\",\"Ir\"]"
   ]
  },
  {
   "cell_type": "code",
   "execution_count": null,
   "id": "white-medicaid",
   "metadata": {},
   "outputs": [],
   "source": [
    "import scipy.stats as st\n",
    "\n",
    "def gkern(middle,kernlen=100, sigma=3):\n",
    "    \"\"\"Returns a 2D Gaussian kernel.\"\"\" \n",
    "    width = math.floor(kernlen / 2)\n",
    "    x = np.arange(-width - middle[0],width - middle[0],1)\n",
    "    y = np.arange(-width - middle[1],width - middle[1],1)\n",
    "    z = np.arange(-width - middle[2],width - middle[2],1)\n",
    "    xx, yy, zz = np.meshgrid(x,y,z)\n",
    "    kernel = np.exp(-(xx**2 + yy**2 + zz**2)/(2*sigma**2))\n",
    "    return kernel"
   ]
  },
  {
   "cell_type": "code",
   "execution_count": null,
   "id": "neutral-hampton",
   "metadata": {},
   "outputs": [],
   "source": [
    "imshow(gkern([-33,0,-3])[0])"
   ]
  },
  {
   "cell_type": "code",
   "execution_count": null,
   "id": "static-matter",
   "metadata": {},
   "outputs": [],
   "source": [
    "element = elems[0]\n",
    "voxel_rep = np.zeros((len(species),100,100,100))\n",
    "\n",
    "SCALING = 5\n",
    "\n",
    "for atom, location in zip(element.get_chemical_symbols(), element.get_positions()):\n",
    "    atom_index = species.index(atom)\n",
    "    voxel_rep[atom_index] += gkern(location*SCALING, sigma=8)"
   ]
  },
  {
   "cell_type": "code",
   "execution_count": null,
   "id": "reflected-inquiry",
   "metadata": {},
   "outputs": [],
   "source": [
    "imshow(voxel_rep[0][40])"
   ]
  },
  {
   "cell_type": "code",
   "execution_count": null,
   "id": "round-tribute",
   "metadata": {},
   "outputs": [],
   "source": [
    "import plotly.graph_objects as go\n",
    "\n",
    "import plotly.offline as pyo\n",
    "pyo.init_notebook_mode()\n",
    "\n",
    "X, Y, Z = np.mgrid[0:100:100j, 0:100:100j, 0:100:100j]\n",
    "values = voxel_rep[0]\n",
    "\n",
    "fig = go.Figure(data=go.Volume(\n",
    "    x=X.flatten(),\n",
    "    y=Y.flatten(),\n",
    "    z=Z.flatten(),\n",
    "    value=values.flatten(),\n",
    "    isomin=0.1,\n",
    "    isomax=0.8,\n",
    "    opacity=0.1, # needs to be small to see through all surfaces\n",
    "    surface_count=17, # needs to be a large number for good volume rendering\n",
    "    ))\n",
    "fig.show()"
   ]
  },
  {
   "cell_type": "code",
   "execution_count": null,
   "id": "endless-classic",
   "metadata": {},
   "outputs": [],
   "source": []
  }
 ],
 "metadata": {
  "kernelspec": {
   "display_name": "Python 3",
   "language": "python",
   "name": "python3"
  },
  "language_info": {
   "codemirror_mode": {
    "name": "ipython",
    "version": 3
   },
   "file_extension": ".py",
   "mimetype": "text/x-python",
   "name": "python",
   "nbconvert_exporter": "python",
   "pygments_lexer": "ipython3",
   "version": "3.6.8"
  }
 },
 "nbformat": 4,
 "nbformat_minor": 5
}
