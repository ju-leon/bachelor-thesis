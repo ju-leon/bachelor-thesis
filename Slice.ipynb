{
 "cells": [
  {
   "cell_type": "code",
   "execution_count": 298,
   "metadata": {},
   "outputs": [],
   "source": [
    "import numpy as np\n",
    "import pandas as pd\n",
    "import copy\n",
    "from tqdm import tqdm\n",
    "import matplotlib.pyplot as plt\n",
    "from mendeleev import element\n",
    "import nltools\n",
    "import math\n",
    "from skimage import draw\n",
    "from ipywidgets import interact, interactive, fixed, interact_manual\n",
    "import ipywidgets as widgets\n",
    "import cv2 as cv\n",
    "from pyefd import elliptic_fourier_descriptors\n",
    "from scipy.spatial.transform import Rotation as R\n",
    "from numpy import linalg as LA\n",
    "import networkx as nx\n",
    "import random\n",
    "from collections import namedtuple"
   ]
  },
  {
   "cell_type": "code",
   "execution_count": 299,
   "metadata": {},
   "outputs": [],
   "source": [
    "coords=[]\n",
    "elements=[]\n",
    "for lineidx,line in enumerate(open(\"data/coordinates_TS/ir_tbp_1_dft-asme3_1_dft-asme3_1_dft-co_1_dft-icn_1_smi1_1_s_1_ts.xyz\",\"r\")):\n",
    "    if lineidx >= 2:\n",
    "        elements.append(line.split()[0].capitalize())\n",
    "        coords.append([float(line.split()[1]),float(line.split()[2]),float(line.split()[3])])\n",
    "coords=np.array(coords)"
   ]
  },
  {
   "cell_type": "code",
   "execution_count": 300,
   "metadata": {},
   "outputs": [
    {
     "name": "stdout",
     "output_type": "stream",
     "text": [
      "[[-0.092476 -0.27605  -0.232554]\n",
      " [-0.120361 -0.578618 -1.929409]\n",
      " [-0.057964  0.36163  -1.983606]\n",
      " [ 2.3435   -0.25933  -0.092274]\n",
      " [ 3.034775  0.340348  1.63516 ]\n",
      " [ 3.244248  0.965707 -1.322539]\n",
      " [ 3.262767 -1.963248 -0.375416]\n",
      " [ 2.767462  1.407538  1.760456]\n",
      " [ 4.135848  0.22427   1.667487]\n",
      " [ 2.561803 -0.25739   2.436279]\n",
      " [ 2.960168  1.99865  -1.041589]\n",
      " [ 2.910162  0.756869 -2.35616 ]\n",
      " [ 4.342649  0.846848 -1.244835]\n",
      " [ 2.867622 -2.698561  0.351482]\n",
      " [ 4.356232 -1.847813 -0.243339]\n",
      " [ 3.040024 -2.322309 -1.398132]\n",
      " [-2.487998  0.111539 -0.034788]\n",
      " [-3.735596 -1.37684  -0.270334]\n",
      " [-3.14416   1.488792 -1.252094]\n",
      " [-2.946812  0.829995  1.719353]\n",
      " [-3.633274 -1.770611 -1.299428]\n",
      " [-4.778765 -1.049998 -0.093112]\n",
      " [-3.463763 -2.177471  0.444117]\n",
      " [-3.051848  1.12571  -2.29326 ]\n",
      " [-2.483672  2.365645 -1.110832]\n",
      " [-4.196922  1.750306 -1.029876]\n",
      " [-2.745766  0.055402  2.483184]\n",
      " [-4.007467  1.145726  1.759618]\n",
      " [-2.270506  1.689793  1.886898]\n",
      " [-0.179204 -1.872994  0.697773]\n",
      " [-0.226406 -2.911624  1.251007]\n",
      " [-0.043692  1.870207  0.248991]\n",
      " [ 0.790743  2.717082  0.480776]\n",
      " [ 1.614242  3.566981  0.713334]]\n",
      "['Ir', 'H', 'H', 'As', 'C', 'C', 'C', 'H', 'H', 'H', 'H', 'H', 'H', 'H', 'H', 'H', 'As', 'C', 'C', 'C', 'H', 'H', 'H', 'H', 'H', 'H', 'H', 'H', 'H', 'C', 'O', 'N', 'C', 'O']\n"
     ]
    }
   ],
   "source": [
    "print(coords)\n",
    "print(elements)"
   ]
  },
  {
   "cell_type": "markdown",
   "metadata": {},
   "source": [
    "## Center coordinates\n",
    "\n",
    "Center all coordinates around the metal atom.\n",
    "Its assumed that the metal center is always the first atom of the file."
   ]
  },
  {
   "cell_type": "code",
   "execution_count": 301,
   "metadata": {},
   "outputs": [
    {
     "name": "stdout",
     "output_type": "stream",
     "text": [
      "[[ 0.        0.        0.      ]\n",
      " [-0.027885 -0.302568 -1.696855]\n",
      " [ 0.034512  0.63768  -1.751052]\n",
      " [ 2.435976  0.01672   0.14028 ]\n",
      " [ 3.127251  0.616398  1.867714]\n",
      " [ 3.336724  1.241757 -1.089985]\n",
      " [ 3.355243 -1.687198 -0.142862]\n",
      " [ 2.859938  1.683588  1.99301 ]\n",
      " [ 4.228324  0.50032   1.900041]\n",
      " [ 2.654279  0.01866   2.668833]\n",
      " [ 3.052644  2.2747   -0.809035]\n",
      " [ 3.002638  1.032919 -2.123606]\n",
      " [ 4.435125  1.122898 -1.012281]\n",
      " [ 2.960098 -2.422511  0.584036]\n",
      " [ 4.448708 -1.571763 -0.010785]\n",
      " [ 3.1325   -2.046259 -1.165578]\n",
      " [-2.395522  0.387589  0.197766]\n",
      " [-3.64312  -1.10079  -0.03778 ]\n",
      " [-3.051684  1.764842 -1.01954 ]\n",
      " [-2.854336  1.106045  1.951907]\n",
      " [-3.540798 -1.494561 -1.066874]\n",
      " [-4.686289 -0.773948  0.139442]\n",
      " [-3.371287 -1.901421  0.676671]\n",
      " [-2.959372  1.40176  -2.060706]\n",
      " [-2.391196  2.641695 -0.878278]\n",
      " [-4.104446  2.026356 -0.797322]\n",
      " [-2.65329   0.331452  2.715738]\n",
      " [-3.914991  1.421776  1.992172]\n",
      " [-2.17803   1.965843  2.119452]\n",
      " [-0.086728 -1.596944  0.930327]\n",
      " [-0.13393  -2.635574  1.483561]\n",
      " [ 0.048784  2.146257  0.481545]\n",
      " [ 0.883219  2.993132  0.71333 ]\n",
      " [ 1.706718  3.843031  0.945888]]\n"
     ]
    }
   ],
   "source": [
    "#Center\n",
    "metal = coords[0]\n",
    "coords = coords - metal\n",
    "\n",
    "print(coords)"
   ]
  },
  {
   "cell_type": "markdown",
   "metadata": {},
   "source": [
    "## Rotate coordinates\n",
    "\n",
    "Rotate the coordinates around center point. The entire molecule is rotated so that the first to Hydrogen atoms(reaction pocket) are facing up(positive z-axis).\n",
    "\n",
    "The rotation i9s performed using 3D Rotational matricies."
   ]
  },
  {
   "cell_type": "code",
   "execution_count": 302,
   "metadata": {},
   "outputs": [],
   "source": [
    "import math\n",
    "\n",
    "def dotproduct(v1, v2):\n",
    "  return sum((a*b) for a, b in zip(v1, v2))\n",
    "\n",
    "def length(v):\n",
    "  return math.sqrt(dotproduct(v, v))\n",
    "\n",
    "def angle(v1, v2):\n",
    "  return math.acos(dotproduct(v1, v2) / (length(v1) * length(v2)))\n",
    "\n",
    "def cosAngle(v1, v2):\n",
    "  return dotproduct(v1, v2) / (length(v1) * length(v2))\n",
    "\n",
    "def sinAngle(v1, v2):\n",
    "  return dotproduct(v1, v2) / (length(v1) * length(v2))"
   ]
  },
  {
   "cell_type": "code",
   "execution_count": 303,
   "metadata": {},
   "outputs": [
    {
     "name": "stdout",
     "output_type": "stream",
     "text": [
      "[[ 0.          0.          0.        ]\n",
      " [-0.02462354 -1.6905915   0.33605941]\n",
      " [ 0.03787751 -1.76324812 -0.6029356 ]\n",
      " [ 2.43570188  0.14460285 -0.01958286]\n",
      " [ 3.12365542  1.86116777 -0.653324  ]\n",
      " [ 3.33881282 -1.10790942 -1.22009034]\n",
      " [ 3.35551139 -0.10302756  1.68956529]\n",
      " [ 2.85610209  1.9648253  -1.72277253]\n",
      " [ 4.22466425  1.89789933 -0.53794969]\n",
      " [ 2.64914451  2.67303805 -0.07152425]\n",
      " [ 3.05419335 -0.84798371 -2.25837546]\n",
      " [ 3.00671409 -2.1378394  -0.99084416]\n",
      " [ 4.43706244 -1.02575997 -1.10283265]\n",
      " [ 2.95897     0.637506    2.41037765]\n",
      " [ 4.44872051  0.0288423   1.57149993]\n",
      " [ 3.13473449 -1.11887058  2.06878528]\n",
      " [-2.39589769  0.18546035 -0.39133235]\n",
      " [-3.64304066 -0.02300898  1.10146024]\n",
      " [-3.04971877 -1.06009688 -1.74422313]\n",
      " [-2.85808236  1.9241685  -1.1443126 ]\n",
      " [-3.53874089 -1.0439178   1.51549718]\n",
      " [-4.68654836  0.14571125  0.77121781]\n",
      " [-3.37258136  0.70765318  1.88779858]\n",
      " [-2.95540579 -2.09370132 -1.36063012]\n",
      " [-2.3895035  -0.93493032 -2.6237228 ]\n",
      " [-4.10290594 -0.84511633 -2.0100396 ]\n",
      " [-2.65850483  2.70355007 -0.3849808 ]\n",
      " [-3.91881279  1.95614483 -1.46073768]\n",
      " [-2.18209963  2.07598047 -2.00728086]\n",
      " [-0.08851596  0.96155092  1.5782411 ]\n",
      " [-0.1367812   1.53512044  2.60573156]\n",
      " [ 0.04785836  0.43910876 -2.15536021]\n",
      " [ 0.88184633  0.65570744 -3.00668413]\n",
      " [ 1.70489682  0.87299816 -3.86104633]]\n"
     ]
    }
   ],
   "source": [
    "#Rotate\n",
    "def getRotationMatrix(mean):\n",
    "    angleY =  -1 * (angle([0,0,1], [mean[0],0,mean[2]]))\n",
    "    cosAngleY = -1 * (cosAngle([0,0,1], [mean[0],0,mean[2]]))\n",
    "    #Rotation matric around y-axis\n",
    "    rotY = np.matrix([[cosAngleY, 0, np.sin(angleY)], [0,1,0], [-np.sin(angleY), 0, cosAngleY]])\n",
    "\n",
    "    angleX = -1 * (angle([1,0,0], [mean[0], mean[1], 0]))\n",
    "    cosAngleX = -1 * (cosAngle([1,0,0], [mean[0], mean[1], 0]))\n",
    "    #Rotation matrix around x-axis\n",
    "    rotX = np.matrix([[1,0,0], [0,cosAngleX,-np.sin(angleX)], [0, np.sin(angleX),cosAngleX]])\n",
    "\n",
    "    rot = np.matmul(rotX, rotY)\n",
    "    return rot\n",
    "    \n",
    "mean = (coords[1] + coords[2]) / 2\n",
    "rotation = getRotationMatrix(mean)\n",
    "\n",
    "coords_aligned = []\n",
    "for coord in coords:\n",
    "    coords_aligned.append(np.asarray(np.dot(rotation, coord)).reshape(-1))\n",
    "\n",
    "coords = np.array(coords_aligned)\n",
    "print(coords)"
   ]
  },
  {
   "cell_type": "markdown",
   "metadata": {},
   "source": [
    "## Visualize\n",
    "\n",
    "Visualize the centered and rotated molecule in a 3D grid"
   ]
  },
  {
   "cell_type": "code",
   "execution_count": 304,
   "metadata": {},
   "outputs": [],
   "source": [
    "def drawSphere(xCenter, yCenter, zCenter, r):\n",
    "       #draw sphere\n",
    "       u, v = np.mgrid[0:2*np.pi:20j, 0:np.pi:10j]\n",
    "       x=np.cos(u)*np.sin(v)\n",
    "       y=np.sin(u)*np.sin(v)\n",
    "       z=np.cos(v)\n",
    "       # shift and scale sphere\n",
    "       x = r*x + xCenter\n",
    "       y = r*y + yCenter\n",
    "       z = r*z + zCenter\n",
    "       return (x,y,z)"
   ]
  },
  {
   "cell_type": "code",
   "execution_count": 305,
   "metadata": {},
   "outputs": [
    {
     "name": "stdout",
     "output_type": "stream",
     "text": [
      "Element: Ir, r: 2.33\n",
      "Element: H, r: 1.54\n",
      "Element: H, r: 1.54\n",
      "Element: As, r: 2.31\n",
      "Element: C, r: 1.9\n",
      "Element: C, r: 1.9\n",
      "Element: C, r: 1.9\n",
      "Element: H, r: 1.54\n",
      "Element: H, r: 1.54\n",
      "Element: H, r: 1.54\n",
      "Element: H, r: 1.54\n",
      "Element: H, r: 1.54\n",
      "Element: H, r: 1.54\n",
      "Element: H, r: 1.54\n",
      "Element: H, r: 1.54\n",
      "Element: H, r: 1.54\n",
      "Element: As, r: 2.31\n",
      "Element: C, r: 1.9\n",
      "Element: C, r: 1.9\n",
      "Element: C, r: 1.9\n",
      "Element: H, r: 1.54\n",
      "Element: H, r: 1.54\n",
      "Element: H, r: 1.54\n",
      "Element: H, r: 1.54\n",
      "Element: H, r: 1.54\n",
      "Element: H, r: 1.54\n",
      "Element: H, r: 1.54\n",
      "Element: H, r: 1.54\n",
      "Element: H, r: 1.54\n",
      "Element: C, r: 1.9\n",
      "Element: O, r: 1.71\n",
      "Element: N, r: 1.79\n",
      "Element: C, r: 1.9\n",
      "Element: O, r: 1.71\n"
     ]
    },
    {
     "data": {
      "image/png": "[encoded data removed]",
      "text/plain": [
       "<Figure size 432x288 with 1 Axes>"
      ]
     },
     "metadata": {
      "needs_background": "light"
     },
     "output_type": "display_data"
    }
   ],
   "source": [
    "fig = plt.figure()\n",
    "ax = fig.add_subplot(111, projection='3d')\n",
    "axes = plt.gca()\n",
    "#axes.set_xlim([-2,2])\n",
    "#axes.set_ylim([-2,2])\n",
    "#axes.set_zlim([-2,2])\n",
    "\n",
    "radii = []\n",
    "for ((x,y,z), elem) in zip(coords, elements):\n",
    "    #print((x,y,z))\n",
    "    r = element(elem).atomic_radius_rahm / 100 #Convert to Angström\n",
    "    radii.append(r)\n",
    "    print(\"Element: \" + elem + \", r: \" + str(r))\n",
    "    (xs,ys,zs) = drawSphere(x,y,z,r)\n",
    "    ax.plot_wireframe(xs,ys,zs, color=\"r\")\n",
    "    \n",
    "plt.show()"
   ]
  },
  {
   "cell_type": "code",
   "execution_count": 306,
   "metadata": {},
   "outputs": [
    {
     "name": "stdout",
     "output_type": "stream",
     "text": [
      "(34, 3)\n",
      "(34,)\n",
      "[2.33 1.54 1.54 2.31 1.9  1.9  1.9  1.54 1.54 1.54 1.54 1.54 1.54 1.54\n",
      " 1.54 1.54 2.31 1.9  1.9  1.9  1.54 1.54 1.54 1.54 1.54 1.54 1.54 1.54\n",
      " 1.54 1.9  1.71 1.79 1.9  1.71]\n"
     ]
    }
   ],
   "source": [
    "radii = np.array(radii)\n",
    "coords = np.array(coords)\n",
    "\n",
    "print(coords.shape)\n",
    "print(radii.shape)\n",
    "print(radii)"
   ]
  },
  {
   "cell_type": "markdown",
   "metadata": {},
   "source": [
    "## Compute Slices\n",
    "\n",
    "Compute slices of the molecule at given heights.\n",
    "Each slice is computed by calculating the radius of each atom at the given height. If the radius at the current height is greater than 0 the atom is rendereed in the current slice."
   ]
  },
  {
   "cell_type": "code",
   "execution_count": 307,
   "metadata": {},
   "outputs": [],
   "source": [
    "def radiusAtHeight(radius, height):\n",
    "    relativeHeight = (height - (radius)) / radius\n",
    "    if relativeHeight <= -1 or relativeHeight >= 1:\n",
    "        return 0\n",
    "    return math.sin(math.acos(relativeHeight)) * radius"
   ]
  },
  {
   "cell_type": "code",
   "execution_count": 308,
   "metadata": {},
   "outputs": [
    {
     "data": {
      "image/png": "[encoded data removed]",
      "text/plain": [
       "<Figure size 432x288 with 1 Axes>"
      ]
     },
     "metadata": {
      "needs_background": "light"
     },
     "output_type": "display_data"
    }
   ],
   "source": [
    "#print(np.amax(arr))\n",
    "values = []\n",
    "for x in range(0,181):\n",
    "    values.append(radiusAtHeight(90, x))\n",
    "    \n",
    "plt.plot(values)\n",
    "plt.show()"
   ]
  },
  {
   "cell_type": "code",
   "execution_count": 309,
   "metadata": {
    "jupyter": {
     "outputs_hidden": true
    },
    "scrolled": true
   },
   "outputs": [],
   "source": [
    "coords2d = [[x,y] for (x,y,z) in coords]\n",
    "\n",
    "voxel_size = 0.05\n",
    "num_slices, resolution = 100, 100\n",
    "\n",
    "voxel_space = np.zeros((num_slices, resolution, resolution))"
   ]
  },
  {
   "cell_type": "code",
   "execution_count": 310,
   "metadata": {},
   "outputs": [
    {
     "data": {
      "application/vnd.jupyter.widget-view+json": {
       "model_id": "9ab365078c5d42448daf74a062aec112",
       "version_major": 2,
       "version_minor": 0
      },
      "text/plain": [
       "interactive(children=(FloatSlider(value=0.0, description='k', min=-100.0, step=1.0), Output()), _dom_classes=(…"
      ]
     },
     "metadata": {},
     "output_type": "display_data"
    },
    {
     "data": {
      "text/plain": [
       "<function __main__.f(k)>"
      ]
     },
     "execution_count": 310,
     "metadata": {},
     "output_type": "execute_result"
    }
   ],
   "source": [
    "def f(k):\n",
    "    fig, ax = plt.subplots()\n",
    "    axes = plt.gca()\n",
    "    axes.set_xlim([-6.4,6.4])\n",
    "    axes.set_ylim([-4.8,6.4])\n",
    "    ax.set_aspect('equal')\n",
    "    for ((x,y,z), radius) in zip(coords, radii):\n",
    "        delta_z = ((k * voxel_size) - z)\n",
    "        slice_radius = radiusAtHeight(radius, delta_z)\n",
    "        if slice_radius != 0:\n",
    "            atom = plt.Circle((x,y), slice_radius, color='b')\n",
    "            ax.add_artist(atom)\n",
    "    plt.show()\n",
    "\n",
    "interact(f, k=widgets.FloatSlider(min=-num_slices, max=num_slices, step=1, value=0))"
   ]
  },
  {
   "cell_type": "markdown",
   "metadata": {},
   "source": [
    "## Compute contour\n",
    "\n"
   ]
  },
  {
   "cell_type": "code",
   "execution_count": 311,
   "metadata": {},
   "outputs": [],
   "source": [
    "Circle = namedtuple('Circle', ['x','y','radius'])"
   ]
  },
  {
   "cell_type": "code",
   "execution_count": 312,
   "metadata": {},
   "outputs": [],
   "source": [
    "def distance(x1,y1,x2,y2):\n",
    "    return LA.norm(np.array([x1,y1]) - np.array([x2,y2]))"
   ]
  },
  {
   "cell_type": "code",
   "execution_count": 313,
   "metadata": {},
   "outputs": [
    {
     "data": {
      "image/png": "[encoded data removed]",
      "text/plain": [
       "<Figure size 432x288 with 1 Axes>"
      ]
     },
     "metadata": {},
     "output_type": "display_data"
    }
   ],
   "source": [
    "G = nx.Graph()\n",
    "\n",
    "#Height\n",
    "k = 0\n",
    "\n",
    "# Array of (index,(x,y,radius at current height))\n",
    "# Index is the index of the atom in the current_atom array. Will be used to identify the atom in the graph\n",
    "current_atoms = []\n",
    "\n",
    "for ((x,y,z), radius) in zip(coords, radii):\n",
    "    delta_z = ((k * voxel_size) - z)\n",
    "    slice_radius = radiusAtHeight(radius, delta_z)\n",
    "    if slice_radius != 0:\n",
    "        current_atoms.append(Circle(x,y,slice_radius))\n",
    "             \n",
    "for (index,(x,y,radius)) in zip(range(len(current_atoms)), current_atoms):\n",
    "    G.add_node(index)\n",
    "        \n",
    "#Construct graph. Edge if two atoms radii intersect\n",
    "for (index,(x,y,radius)) in zip(range(len(current_atoms)), current_atoms):\n",
    "    for (indexe,(xe, ye, radiuse)) in zip(range(len(current_atoms)), current_atoms):\n",
    "        dist = distance(x,y,xe,ye)\n",
    "        if dist < (radius + radiuse):\n",
    "            G.add_edge(index, indexe, intersect=[])\n",
    "            \n",
    "nx.draw(G)"
   ]
  },
  {
   "cell_type": "code",
   "execution_count": 314,
   "metadata": {},
   "outputs": [],
   "source": [
    "def circle_intersection(circle1, circle2):\n",
    "    (x0, y0, r0) = circle1\n",
    "    (x1, y1, r1) = circle2\n",
    "    # circle 1: (x0, y0), radius r0\n",
    "    # circle 2: (x1, y1), radius r1\n",
    "\n",
    "    d=math.sqrt((x1-x0)**2 + (y1-y0)**2)\n",
    "    \n",
    "    # non intersecting\n",
    "    if d > r0 + r1 :\n",
    "        return []\n",
    "    # One circle within other\n",
    "    if d < abs(r0-r1):\n",
    "        return []\n",
    "    # coincident circles\n",
    "    if d == 0 and r0 == r1:\n",
    "        return []\n",
    "    else:\n",
    "        a=(r0**2-r1**2+d**2)/(2*d)\n",
    "        h=math.sqrt(r0**2-a**2)\n",
    "        x2=x0+a*(x1-x0)/d   \n",
    "        y2=y0+a*(y1-y0)/d   \n",
    "        x3=x2+h*(y1-y0)/d     \n",
    "        y3=y2-h*(x1-x0)/d \n",
    "\n",
    "        x4=x2-h*(y1-y0)/d\n",
    "        y4=y2+h*(x1-x0)/d\n",
    "        \n",
    "        return ([x3, y3], [x4, y4])"
   ]
  },
  {
   "cell_type": "code",
   "execution_count": 315,
   "metadata": {},
   "outputs": [
    {
     "name": "stdout",
     "output_type": "stream",
     "text": [
      "{0, 1, 2, 3, 4, 5, 6, 7, 8, 9, 10, 11, 12, 13, 14, 15, 16, 17, 18, 19, 20}\n"
     ]
    }
   ],
   "source": [
    "# Extract the larges connected component\n",
    "# TODO: The geograpically alrgest CC might not be the CC with the most nodes. Rework in future\n",
    "largest_cc = max(nx.connected_components(G), key=len)\n",
    "print(largest_cc)"
   ]
  },
  {
   "cell_type": "code",
   "execution_count": 316,
   "metadata": {},
   "outputs": [],
   "source": [
    "for node in largest_cc:\n",
    "    for neighbor in G.neighbors(node):\n",
    "        G.edges[node, neighbor]['intersect'] = circle_intersection(current_atoms[node], current_atoms[neighbor])"
   ]
  },
  {
   "cell_type": "code",
   "execution_count": 317,
   "metadata": {},
   "outputs": [],
   "source": [
    "def angle_to_vec(angle):\n",
    "    return [np.cos(angle),np.sin(angle)]"
   ]
  },
  {
   "cell_type": "code",
   "execution_count": 318,
   "metadata": {},
   "outputs": [],
   "source": [
    "# Start at the point furthest to the right. This point is certainly in the contour\n",
    "biggest_x = []\n",
    "for node in largest_cc:\n",
    "    biggest_x.append(current_atoms[node].x + current_atoms[node].radius)"
   ]
  },
  {
   "cell_type": "code",
   "execution_count": 319,
   "metadata": {},
   "outputs": [],
   "source": [
    "ContourSection = namedtuple('ContourSection', ['index', 'start_angle', 'end_angle'])"
   ]
  },
  {
   "cell_type": "code",
   "execution_count": 320,
   "metadata": {},
   "outputs": [],
   "source": [
    "# Determine index of the first angle greater than the current angle\n",
    "def cyclic_min_larger_than(array, lower_bound):\n",
    "    normalised_array = (np.array(array) - lower_bound) % (2 * np.pi)\n",
    "    valid_idx = np.where(normalised_array > 0)[0]\n",
    "    return valid_idx[normalised_array[valid_idx].argmin()]\n"
   ]
  },
  {
   "cell_type": "code",
   "execution_count": 321,
   "metadata": {},
   "outputs": [],
   "source": [
    "# Angle beweeen 2 vecs from 0 to 2 PI\n",
    "def angleFull(v1, v2):\n",
    "    (x1, y1) = v1\n",
    "    (x2, y2) = v2\n",
    "    dot = x1*x2 + y1*y2      # dot product\n",
    "    det = x1*y2 - y1*x2      # determinant\n",
    "    angle = np.arctan2(det, dot) \n",
    "    return angle % (2*np.pi)"
   ]
  },
  {
   "cell_type": "code",
   "execution_count": 322,
   "metadata": {},
   "outputs": [],
   "source": [
    "sections = []\n",
    "\n",
    "active_node = np.argmax(biggest_x)\n",
    "current_angle = 0\n",
    "\n",
    "# Add a virtual node to the graph to detect when the contour tracer has reached the beginning again\n",
    "G.add_node(max(largest_cc) + 1)\n",
    "G.add_edge(active_node, max(largest_cc) + 1, intersect=[[np.max(biggest_x), current_atoms[active_node].y]])\n",
    "\n",
    "while True:\n",
    "    \n",
    "    \n",
    "    #print(active_node)\n",
    "    \n",
    "    angles = []\n",
    "    data_for_angle = []\n",
    "    for neighbor in G.neighbors(active_node):\n",
    "        for point in G.edges[active_node, neighbor]['intersect']:\n",
    "            angles.append(angleFull([1,0], [point[0] - current_atoms[active_node].x, point[1] - current_atoms[active_node].y]))\n",
    "            data_for_angle.append((neighbor, point))\n",
    "\n",
    "    next_node = data_for_angle[cyclic_min_larger_than(angles, current_angle)][0]\n",
    "    intersection_point = data_for_angle[cyclic_min_larger_than(angles, current_angle)][1]\n",
    "    \n",
    "    #print(np.degrees(angles))\n",
    "    #print(np.degrees(current_angle))\n",
    "    contour_section = ContourSection(active_node, current_angle, angles[cyclic_min_larger_than(angles, current_angle)])\n",
    "    \n",
    "    sections.append(contour_section)\n",
    "\n",
    "    if next_node == (max(largest_cc) + 1):\n",
    "        break\n",
    "    \n",
    "    # Compute angle between intersection point and next atom\n",
    "    current_angle = angleFull([1,0], [intersection_point[0] - current_atoms[next_node].x, intersection_point[1] - current_atoms[next_node].y])\n",
    "    active_node = next_node\n",
    "    #print(np.degrees(current_angle))"
   ]
  },
  {
   "cell_type": "code",
   "execution_count": 323,
   "metadata": {},
   "outputs": [],
   "source": [
    "def points_in_section(circle, section):\n",
    "    (index, start_angle, end_angle) = section\n",
    "    (x,y,radius) = circle\n",
    "\n",
    "    if end_angle < start_angle:\n",
    "        end_angle += 2*np.pi\n",
    "\n",
    "    angles = np.arange(start_angle, end_angle, 0.01)\n",
    "    \n",
    "    coords_circle = []\n",
    "    for angle in angles:\n",
    "        coords_circle.append(((np.cos(angle)*radius) + x, (np.sin(angle) * radius) + y))\n",
    "        \n",
    "    return coords_circle"
   ]
  },
  {
   "cell_type": "code",
   "execution_count": 324,
   "metadata": {},
   "outputs": [
    {
     "data": {
      "image/png": "[encoded data removed]",
      "text/plain": [
       "<Figure size 432x288 with 1 Axes>"
      ]
     },
     "metadata": {
      "needs_background": "light"
     },
     "output_type": "display_data"
    }
   ],
   "source": [
    "contour_points = []\n",
    "for section in sections:\n",
    "    circle = current_atoms[section.index]\n",
    "    contour_points.extend(points_in_section(circle, section))\n",
    "\n",
    "#print(contour_points)\n",
    "fig = plt.figure()\n",
    "ax = fig.add_subplot(111)\n",
    "ax.scatter(*zip(*list(contour_points)))\n",
    "ax.set_aspect('equal')\n",
    "plt.show()"
   ]
  },
  {
   "cell_type": "code",
   "execution_count": 325,
   "metadata": {},
   "outputs": [
    {
     "data": {
      "application/vnd.jupyter.widget-view+json": {
       "model_id": "d81bae065518401a94e1fa1afac76502",
       "version_major": 2,
       "version_minor": 0
      },
      "text/plain": [
       "interactive(children=(IntSlider(value=1, description='x', max=3180, min=1, step=20), Output()), _dom_classes=(…"
      ]
     },
     "metadata": {},
     "output_type": "display_data"
    }
   ],
   "source": [
    "def q(x):\n",
    "    fig = plt.figure()\n",
    "    ax = fig.add_subplot(111)\n",
    "    ax.scatter(*zip(*list(contour_points[:x])))\n",
    "    ax.set_aspect('equal')\n",
    "    plt.show()\n",
    "\n",
    "interact(q, x=widgets.IntSlider(min=1, max=len(contour_points), step=20, value=1));"
   ]
  },
  {
   "cell_type": "code",
   "execution_count": 295,
   "metadata": {},
   "outputs": [
    {
     "name": "stdout",
     "output_type": "stream",
     "text": [
      "[[ 1.00000000e+00  0.00000000e+00  0.00000000e+00  6.22938850e-01]\n",
      " [-3.33659532e-02  1.83316952e-01 -1.59522957e-01 -3.38832692e-02]\n",
      " [ 5.97856690e-02 -3.47203265e-02  1.27721662e-02  1.86208085e-01]\n",
      " [-4.13646667e-04 -1.36424357e-02 -5.23710623e-02 -1.67864985e-02]\n",
      " [ 1.88203792e-02 -3.88889048e-02  4.23592968e-02  1.30893829e-02]\n",
      " [ 1.68632548e-02 -9.55205382e-02  1.27302807e-01 -4.90794791e-03]\n",
      " [ 1.77970725e-03  2.97808900e-05 -1.92714702e-02 -4.13042247e-02]\n",
      " [ 2.38199045e-02 -1.67783857e-02 -4.05605008e-02  2.15539615e-02]\n",
      " [ 4.21164043e-02  3.84285720e-03  7.37798974e-03  2.25116409e-02]\n",
      " [ 1.23314496e-03  3.60304828e-03  1.03702304e-02  4.49016312e-03]]\n"
     ]
    }
   ],
   "source": [
    "print(elliptic_fourier_descriptors(np.squeeze(contour_points), order=10, normalize=True))"
   ]
  },
  {
   "cell_type": "code",
   "execution_count": null,
   "metadata": {},
   "outputs": [],
   "source": []
  }
 ],
 "metadata": {
  "kernelspec": {
   "display_name": "Python 3",
   "language": "python",
   "name": "python3"
  },
  "language_info": {
   "codemirror_mode": {
    "name": "ipython",
    "version": 3
   },
   "file_extension": ".py",
   "mimetype": "text/x-python",
   "name": "python",
   "nbconvert_exporter": "python",
   "pygments_lexer": "ipython3",
   "version": "3.7.7"
  }
 },
 "nbformat": 4,
 "nbformat_minor": 4
}
